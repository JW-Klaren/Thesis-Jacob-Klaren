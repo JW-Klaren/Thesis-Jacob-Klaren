{
 "cells": [
  {
   "cell_type": "code",
   "execution_count": 4,
   "metadata": {},
   "outputs": [
    {
     "name": "stdout",
     "output_type": "stream",
     "text": [
      "Trimmed FLOW.AS.csv starting from 2018-01-22\n",
      "Trimmed WKL.AS.csv starting from 2018-01-22\n",
      "Trimmed AALBF.csv starting from 2018-01-22\n",
      "No matching date found in ADYEN.AS.csv\n",
      "Trimmed KPN.AS.csv starting from 2018-01-22\n",
      "Trimmed AD.AS.csv starting from 2018-01-22\n",
      "Trimmed AKZA.AS.csv starting from 2018-01-22\n",
      "Trimmed INGA.AS.csv starting from 2018-01-22\n",
      "Trimmed BESI.AS.csv starting from 2018-01-22\n",
      "Trimmed TWEKA.AS.csv starting from 2018-01-22\n",
      "Trimmed APAM.AS.csv starting from 2018-01-22\n",
      "Trimmed AGN.AS.csv starting from 2018-01-22\n",
      "Trimmed SHELL.AS.csv starting from 2018-01-22\n",
      "Trimmed VPK.AS.csv starting from 2018-01-22\n",
      "Trimmed REINA.AS.csv starting from 2018-01-22\n",
      "Trimmed GLPG.AS.csv starting from 2018-01-22\n",
      "Trimmed HAL.AS.csv starting from 2018-01-22\n",
      "Trimmed CRBN.AS.csv starting from 2018-01-22\n",
      "No matching date found in PRX.AS.csv\n",
      "Trimmed ASML.AS.csv starting from 2018-01-22\n",
      "Trimmed OCI.AS.csv starting from 2018-01-22\n",
      "Trimmed SBMO.AS.csv starting from 2018-01-22\n",
      "Trimmed ARCAD.AS.csv starting from 2018-01-22\n",
      "Trimmed CCEP.AS.csv starting from 2018-01-22\n",
      "Trimmed ABN.AS.csv starting from 2018-01-22\n",
      "Trimmed BFIT.AS.csv starting from 2018-01-22\n",
      "Trimmed IMCD.AS.csv starting from 2018-01-22\n",
      "Trimmed LIGHT.AS.csv starting from 2018-01-22\n",
      "Trimmed PSH.AS.csv starting from 2018-01-22\n",
      "Trimmed NN.AS.csv starting from 2018-01-22\n",
      "Trimmed ASRNL.AS.csv starting from 2018-01-22\n",
      "Trimmed ASM.AS.csv starting from 2018-01-22\n",
      "No matching date found in ALFEN.AS.csv\n",
      "Trimmed HEIO.AS.csv starting from 2018-01-22\n",
      "Trimmed TKWY.AS.csv starting from 2018-01-22\n"
     ]
    }
   ],
   "source": [
    "#Remove dates from pricefiles (oold to new)\n",
    "\n",
    "import os\n",
    "import pandas as pd\n",
    "\n",
    "# Set the folder path and the target date\n",
    "folder_path = '/Users/ninadeplanque/Documents/Jacob/Data_Science/Thesis/Company_price_files/Training_small'\n",
    "target_date = '2018-01-22'  # Change this to your desired date\n",
    "\n",
    "# Loop through all CSV files in the folder\n",
    "for filename in os.listdir(folder_path):\n",
    "    if filename.endswith('.csv'):\n",
    "        file_path = os.path.join(folder_path, filename)\n",
    "        \n",
    "        try:\n",
    "            # Read CSV assuming first column contains the date\n",
    "            df = pd.read_csv(file_path)\n",
    "\n",
    "            # Find index of first row where the date starts with the target_date\n",
    "            index_to_keep_from = df[df.iloc[:, 0].astype(str).str.startswith(target_date)].index\n",
    "\n",
    "            if not index_to_keep_from.empty:\n",
    "                trimmed_df = df.loc[index_to_keep_from[0]:].reset_index(drop=True)\n",
    "                trimmed_df.to_csv(file_path, index=False)\n",
    "                print(f\"Trimmed {filename} starting from {target_date}\")\n",
    "            else:\n",
    "                print(f\"No matching date found in {filename}\")\n",
    "\n",
    "        except Exception as e:\n",
    "            print(f\"Error processing {filename}: {e}\")"
   ]
  },
  {
   "cell_type": "code",
   "execution_count": 127,
   "metadata": {},
   "outputs": [],
   "source": [
    "#Concoctanate csv files from folder\n",
    "\n",
    "import os\n",
    "import pandas as pd\n",
    "\n",
    "folder_path = '/Users/ninadeplanque/Documents/Jacob/Data_Science/Thesis/test/test_set/1'  # Update this with the path to your folder containing CSV files\n",
    "output_file = '/Users/ninadeplanque/Documents/Jacob/Data_Science/Thesis/test/testset3.csv'  # File where the concatenated data will be saved\n",
    "\n",
    "# Get a list of all files in the folder\n",
    "file_list = [file for file in os.listdir(folder_path) if file.endswith('.csv')]\n",
    "\n",
    "# Read the first file to get its header\n",
    "first_file = pd.read_csv(os.path.join(folder_path, file_list[0]))\n",
    "\n",
    "# Write the header of the first file to the output file\n",
    "first_file.to_csv(output_file, index=False)\n",
    "\n",
    "# Iterate through the remaining files and append their content (skipping the header)\n",
    "for file in file_list[1:]:\n",
    "    data = pd.read_csv(os.path.join(folder_path, file))\n",
    "    data.to_csv(output_file, mode='a', header=False, index=False)"
   ]
  },
  {
   "cell_type": "code",
   "execution_count": 124,
   "metadata": {},
   "outputs": [
    {
     "name": "stdout",
     "output_type": "stream",
     "text": [
      "Columns and rows removed. Modified CSV saved to /Users/ninadeplanque/Documents/Jacob/Data_Science/Thesis/test/test_set3.csv\n"
     ]
    }
   ],
   "source": [
    "#Remove columns and rows from csv file\n",
    "\n",
    "import csv\n",
    "\n",
    "def remove_columns_and_rows(input_file, output_file, columns_to_remove, rows_to_remove):\n",
    "    with open(input_file, mode='r', newline='') as infile, open(output_file, mode='w', newline='') as outfile:\n",
    "        reader = csv.reader(infile)\n",
    "        writer = csv.writer(outfile)\n",
    "        \n",
    "        for row_index, row in enumerate(reader):\n",
    "            # Skip the rows that are in the rows_to_remove set\n",
    "            if row_index in rows_to_remove:\n",
    "                continue\n",
    "            \n",
    "            # Remove the specified columns (0-based index)\n",
    "            modified_row = [value for idx, value in enumerate(row) if idx not in columns_to_remove]\n",
    "            writer.writerow(modified_row)\n",
    "\n",
    "# Specify the columns to remove (0-based index)\n",
    "columns_to_remove = {1, 2}  # Removes 2nd, 3rd, 4th, 6th, and 7th columns (1, 2, 3, 5, 6)(1, 2)\n",
    "rows_to_remove = {0}  # Removes the first row (index 0)\n",
    "\n",
    "# Input and output file paths\n",
    "input_file = '/Users/ninadeplanque/Documents/Jacob/Data_Science/Thesis/test/test_set2.csv'\n",
    "output_file = '/Users/ninadeplanque/Documents/Jacob/Data_Science/Thesis/test/test_set3.csv'\n",
    "\n",
    "# Call the function to remove the columns and rows\n",
    "remove_columns_and_rows(input_file, output_file, columns_to_remove, rows_to_remove)\n",
    "\n",
    "print(f\"Columns and rows removed. Modified CSV saved to {output_file}\")"
   ]
  },
  {
   "cell_type": "code",
   "execution_count": 72,
   "metadata": {},
   "outputs": [],
   "source": [
    "#Reverse order (for test data)\n",
    "\n",
    "import csv\n",
    "\n",
    "# Input and output file paths\n",
    "input_file = '/Users/ninadeplanque/Documents/Jacob/Data_Science/Thesis/test/test_set/1/WKL2.csv'\n",
    "output_file = '/Users/ninadeplanque/Documents/Jacob/Data_Science/Thesis/test/test_set/WKL.csv'\n",
    "\n",
    "# Read all rows and reverse the order\n",
    "with open(input_file, mode='r', newline='') as f:\n",
    "    reader = list(csv.reader(f))\n",
    "    rows = reader[::-1]  # Reverse all rows since there's no header\n",
    "\n",
    "# Write the reversed rows to a new CSV\n",
    "with open(output_file, mode='w', newline='') as f:\n",
    "    writer = csv.writer(f)\n",
    "    writer.writerows(rows)"
   ]
  },
  {
   "cell_type": "code",
   "execution_count": 74,
   "metadata": {},
   "outputs": [
    {
     "name": "stdout",
     "output_type": "stream",
     "text": [
      "Original DataFrame shape: (8628, 2)\n",
      "Cleaned DataFrame shape: (8389, 2)\n"
     ]
    }
   ],
   "source": [
    "#Remove repeating rows from csv file\n",
    "\n",
    "import pandas as pd\n",
    "\n",
    "# Read the CSV file into a DataFrame\n",
    "file_path = \"/Users/ninadeplanque/Documents/Jacob/Data_Science/Thesis/test/test_set2.csv\"  # Update with your actual file path\n",
    "df = pd.read_csv(file_path)\n",
    "\n",
    "# Identify and remove rows with repeating prices in column index 1\n",
    "df_cleaned = df[df.iloc[:, 1] != df.iloc[:, 1].shift()]\n",
    "\n",
    "# Remove rows containing \"null\" values\n",
    "df_cleaned = df_cleaned.dropna()\n",
    "\n",
    "# Save the cleaned DataFrame to a new CSV file\n",
    "cleaned_file_path = \"/Users/ninadeplanque/Documents/Jacob/Data_Science/Thesis/test/test_set3.csv\"  # Update with your desired file path\n",
    "df_cleaned.to_csv(cleaned_file_path, index=False)\n",
    "\n",
    "# Print a summary\n",
    "print(f\"Original DataFrame shape: {df.shape}\")\n",
    "print(f\"Cleaned DataFrame shape: {df_cleaned.shape}\")"
   ]
  },
  {
   "cell_type": "code",
   "execution_count": 123,
   "metadata": {},
   "outputs": [
    {
     "name": "stdout",
     "output_type": "stream",
     "text": [
      "        Date  Price  LogReturn  Normalized\n",
      "1 2024-05-21  853.7  -0.012803   -0.231645\n",
      "2 2024-05-22  854.1   0.000468    0.008476\n",
      "3 2024-05-23  876.4   0.025774    0.466343\n",
      "4 2024-05-24  880.5   0.004667    0.084447\n",
      "5 2024-05-27  882.6   0.002382    0.043101\n"
     ]
    }
   ],
   "source": [
    "#Normalize the prices \n",
    "\n",
    "import pandas as pd\n",
    "import numpy as np\n",
    "\n",
    "def compute_log_returns(prices):\n",
    "    \"\"\"Compute log returns for a series of prices.\"\"\"\n",
    "    return np.log(prices / prices.shift(1))\n",
    "\n",
    "def scale_to_minus_one_one(series, scale_factor=2.0):\n",
    "    \"\"\"\n",
    "    Scale a series to [-1, 1] using standard deviation.\n",
    "    scale_factor: Number of standard deviations to map to [-1, 1].\n",
    "    \"\"\"\n",
    "    std = series.std()\n",
    "    if std == 0:\n",
    "        return series * 0  # Handle case with no variation\n",
    "    scaled = series / (scale_factor * std)\n",
    "    # Clip to ensure values stay within [-1, 1]\n",
    "    return np.clip(scaled, -1, 1)\n",
    "\n",
    "def normalize_stock_data(input_file, output_file, price_col=1):\n",
    "    \"\"\"\n",
    "    Normalize stock prices in a single column to [-1, 1] using log returns, preserving input order.\n",
    "    input_file: Path to CSV with columns Date and Price (unnamed at index 1)\n",
    "    output_file: Path to save normalized CSV\n",
    "    price_col: Index of the price column (default: 1 for column B)\n",
    "    \"\"\"\n",
    "    # Read the data\n",
    "    df = pd.read_csv(input_file)\n",
    "    \n",
    "    # Check if the CSV has exactly two columns\n",
    "    if len(df.columns) != 2:\n",
    "        raise ValueError(\"CSV must have exactly two columns: Date (index 0) and Price (index 1)\")\n",
    "    \n",
    "    # Rename the price column (at index 1) to 'Price'\n",
    "    df = df.rename(columns={df.columns[price_col]: 'Price'})\n",
    "    \n",
    "    # Ensure expected columns exist\n",
    "    if not all(col in df.columns for col in ['Date', 'Price']):\n",
    "        raise ValueError(f\"Input CSV must contain 'Date' and a Price column (at index {price_col})\")\n",
    "    \n",
    "    # Convert Date to datetime (for consistency, but no sorting)\n",
    "    df['Date'] = pd.to_datetime(df['Date'])\n",
    "    \n",
    "    # Compute log returns for the entire price series, preserving order\n",
    "    df['LogReturn'] = compute_log_returns(df['Price'])\n",
    "    \n",
    "    # Drop NaN values (first row will have NaN log return)\n",
    "    df = df.dropna()\n",
    "    \n",
    "    # Scale log returns to [-1, 1]\n",
    "    df['Normalized'] = scale_to_minus_one_one(df['LogReturn'])\n",
    "    \n",
    "    # Save the normalized data\n",
    "    df.to_csv(output_file, index=False)\n",
    "    \n",
    "    return df\n",
    " \n",
    "\n",
    "# Example usage\n",
    "if __name__ == \"__main__\":\n",
    "    input_file = \"/Users/ninadeplanque/Documents/Jacob/Data_Science/Thesis/test/test_set/ASML.csv\"\n",
    "    output_file = \"/Users/ninadeplanque/Documents/Jacob/Data_Science/Thesis/test/test_set/1/ASML.csv\"\n",
    "    normalized_df = normalize_stock_data(input_file, output_file, price_col=1)\n",
    "    print(normalized_df.head())"
   ]
  },
  {
   "cell_type": "code",
   "execution_count": 9,
   "metadata": {},
   "outputs": [
    {
     "name": "stdout",
     "output_type": "stream",
     "text": [
      "Count: 152229\n",
      "Min: -1.0\n",
      "Max: 1.0\n",
      "Mean: 0.0024302910397017855\n",
      "Median: 0.0073883004213232\n",
      "Mode: [-1.0]\n",
      "Standard Deviation: 0.14408999618786278\n",
      "Variance: 0.020761927001418313\n",
      "Skewness: -0.3171614015112289\n",
      "Kurtosis: 6.845496121940255\n"
     ]
    },
    {
     "data": {
      "image/png": "[encoded data removed]",
      "text/plain": [
       "<Figure size 1000x500 with 1 Axes>"
      ]
     },
     "metadata": {},
     "output_type": "display_data"
    },
    {
     "data": {
      "image/png": "[encoded data removed]",
      "text/plain": [
       "<Figure size 800x200 with 1 Axes>"
      ]
     },
     "metadata": {},
     "output_type": "display_data"
    },
    {
     "data": {
      "image/png": "[encoded data removed]",
      "text/plain": [
       "<Figure size 600x600 with 1 Axes>"
      ]
     },
     "metadata": {},
     "output_type": "display_data"
    }
   ],
   "source": [
    "#Show distribution statistics\n",
    "\n",
    "import pandas as pd\n",
    "import matplotlib.pyplot as plt\n",
    "import seaborn as sns\n",
    "import scipy.stats as stats\n",
    "\n",
    "# Load the CSV file\n",
    "file_path = '/Users/ninadeplanque/Documents/Jacob/Data_Science/Thesis/test/market_price_cleaned.csv'  # replace with your actual file path\n",
    "df = pd.read_csv(file_path)\n",
    "\n",
    "# Extract the column at index 1\n",
    "column_data = df.iloc[:, 1].dropna()  # drop NaNs for accurate stats\n",
    "\n",
    "# Compute descriptive statistics\n",
    "stats_summary = {\n",
    "    'Count': column_data.count(),\n",
    "    'Min': column_data.min(),\n",
    "    'Max': column_data.max(),\n",
    "    'Mean': column_data.mean(),\n",
    "    'Median': column_data.median(),\n",
    "    'Mode': column_data.mode().tolist(),  # list in case of multiple modes\n",
    "    'Standard Deviation': column_data.std(),\n",
    "    'Variance': column_data.var(),\n",
    "    'Skewness': column_data.skew(),\n",
    "    'Kurtosis': column_data.kurt()\n",
    "}\n",
    "\n",
    "# Print the results\n",
    "for stat, value in stats_summary.items():\n",
    "    print(f\"{stat}: {value}\")\n",
    "\n",
    "# --------------------------\n",
    "# Visualization Functions\n",
    "# --------------------------\n",
    "\n",
    "def plot_bell_curve(data):\n",
    "    \"\"\"Bell curve (histogram with KDE overlay)\"\"\"\n",
    "    plt.figure(figsize=(10, 5))\n",
    "    sns.histplot(data, bins=50, kde=True, color='skyblue', stat='density')\n",
    "    plt.title('Bell Curve (Histogram + KDE)')\n",
    "    plt.xlabel('Value')\n",
    "    plt.ylabel('Density')\n",
    "    plt.grid(True)\n",
    "    plt.show()\n",
    "\n",
    "def plot_box_plot(data):\n",
    "    \"\"\"Box plot for descriptive summary\"\"\"\n",
    "    plt.figure(figsize=(8, 2))\n",
    "    sns.boxplot(x=data, color='lightgreen')\n",
    "    plt.title('Box Plot')\n",
    "    plt.xlabel('Value')\n",
    "    plt.grid(True, axis='x')\n",
    "    plt.show()\n",
    "\n",
    "def plot_qq_plot(data):\n",
    "    \"\"\"QQ plot for normality check\"\"\"\n",
    "    plt.figure(figsize=(6, 6))\n",
    "    stats.probplot(data, dist=\"norm\", plot=plt)\n",
    "    plt.title(\"QQ Plot\")\n",
    "    plt.grid(True)\n",
    "    plt.show()\n",
    "\n",
    "# --------------------------\n",
    "# Call Visualization Functions\n",
    "# --------------------------\n",
    "\n",
    "plot_bell_curve(column_data)\n",
    "plot_box_plot(column_data)\n",
    "plot_qq_plot(column_data)"
   ]
  },
  {
   "cell_type": "code",
   "execution_count": null,
   "metadata": {},
   "outputs": [
    {
     "name": "stdout",
     "output_type": "stream",
     "text": [
      "Finished writing to /Users/ninadeplanque/Documents/Jacob/Data_Science/Thesis/test/gaf_labels_transfer_large.csv\n"
     ]
    }
   ],
   "source": [
    "#Create the labels (with prices)\n",
    "\n",
    "import csv\n",
    "\n",
    "input_file = '/Users/ninadeplanque/Documents/Jacob/Data_Science/Thesis/test/files_market/market_price.csv'\n",
    "output_file = '/Users/ninadeplanque/Documents/Jacob/Data_Science/Thesis/test/gaf_labels_transfer_large.csv'\n",
    "\n",
    "# Read stock prices from column index 1\n",
    "with open(input_file, 'r') as f:\n",
    "    reader = csv.reader(f)\n",
    "    data = list(reader)\n",
    "\n",
    "# Get just the prices (as float) from column 1\n",
    "prices = [float(row[1]) for row in data]\n",
    "\n",
    "# Prepare rows for the new CSV\n",
    "output_rows = []\n",
    "for i in range(len(prices) - 1):  # skip last row (no next day)\n",
    "    label = 1 if prices[i + 1] > prices[i] else 0\n",
    "    gaf_name = f'GAF{i+1}_{i+10}.png'\n",
    "    output_rows.append([gaf_name, label])\n",
    "\n",
    "# Write to new CSV\n",
    "with open(output_file, 'w', newline='') as f:\n",
    "    writer = csv.writer(f)\n",
    "    writer.writerows(output_rows)\n",
    "\n",
    "print(f'Finished writing to {output_file}')"
   ]
  },
  {
   "cell_type": "code",
   "execution_count": 131,
   "metadata": {},
   "outputs": [
    {
     "name": "stdout",
     "output_type": "stream",
     "text": [
      "Finished writing to /Users/ninadeplanque/Documents/Jacob/Data_Science/Thesis/test/gaf_labels_testset.csv\n"
     ]
    }
   ],
   "source": [
    "import csv\n",
    "\n",
    "input_file = '/Users/ninadeplanque/Documents/Jacob/Data_Science/Thesis/test/testset.csv'\n",
    "output_file = '/Users/ninadeplanque/Documents/Jacob/Data_Science/Thesis/test/gaf_labels_testset.csv'\n",
    "\n",
    "# Read stock prices from column index 1\n",
    "with open(input_file, 'r') as f:\n",
    "    reader = csv.reader(f)\n",
    "    data = list(reader)\n",
    "\n",
    "# Get just the prices (as float) from column 1\n",
    "prices = [float(row[1]) for row in data]\n",
    "\n",
    "# Prepare rows for the new CSV\n",
    "output_rows = []\n",
    "for i in range(len(prices) - 1):  # skip last row (no next day)\n",
    "    next_price = prices[i + 1]\n",
    "    label = 1 if next_price > 0 else 0  # label as 1 if price went down (i.e., is negative)\n",
    "    gaf_name = f'GAF{i+1}_{i+10}.png'\n",
    "    output_rows.append([gaf_name, label])\n",
    "\n",
    "# Write to new CSV\n",
    "with open(output_file, 'w', newline='') as f:\n",
    "    writer = csv.writer(f)\n",
    "    writer.writerows(output_rows)\n",
    "\n",
    "print(f'Finished writing to {output_file}')\n"
   ]
  },
  {
   "cell_type": "code",
   "execution_count": null,
   "metadata": {},
   "outputs": [],
   "source": [
    "#Remove comma seperators from 1000\n",
    "\n",
    "import pandas as pd\n",
    "\n",
    "# Read the CSV (header is present)\n",
    "df = pd.read_csv('/Users/ninadeplanque/Documents/Jacob/Data_Science/Thesis/test/test_set/ADYEN2.csv')\n",
    "\n",
    "# Clean the 'Price' column: remove commas, convert to float\n",
    "df['Price'] = df['Price'].str.replace(',', '').astype(float)\n",
    "\n",
    "# Optional: save to cleaned CSV\n",
    "df.to_csv('/Users/ninadeplanque/Documents/Jacob/Data_Science/Thesis/test/test_set/ADYEN.csv', index=False)"
   ]
  },
  {
   "cell_type": "code",
   "execution_count": 2,
   "metadata": {},
   "outputs": [
    {
     "name": "stdout",
     "output_type": "stream",
     "text": [
      "Number of 0's: 71761\n",
      "Number of 1's: 74864\n"
     ]
    }
   ],
   "source": [
    "import pandas as pd\n",
    "\n",
    "# Load the CSV file\n",
    "file_path = '/Users/ninadeplanque/Documents/Jacob/Data_Science/Thesis/test/gaf_labels_train_large.csv'  # Replace with your actual file path\n",
    "df = pd.read_csv(file_path)\n",
    "\n",
    "# Check if index 1 exists\n",
    "if df.shape[1] <= 1:\n",
    "    print(\"The CSV file doesn't have a second column (index 1).\")\n",
    "else:\n",
    "    # Count 0's and 1's in the second column\n",
    "    counts = df.iloc[:, 1].value_counts()\n",
    "\n",
    "    num_zeros = counts.get(0, 0)\n",
    "    num_ones = counts.get(1, 0)\n",
    "\n",
    "    print(f\"Number of 0's: {num_zeros}\")\n",
    "    print(f\"Number of 1's: {num_ones}\")"
   ]
  }
 ],
 "metadata": {
  "kernelspec": {
   "display_name": "Python (myenv)",
   "language": "python",
   "name": "myenv"
  },
  "language_info": {
   "codemirror_mode": {
    "name": "ipython",
    "version": 3
   },
   "file_extension": ".py",
   "mimetype": "text/x-python",
   "name": "python",
   "nbconvert_exporter": "python",
   "pygments_lexer": "ipython3",
   "version": "3.11.7"
  }
 },
 "nbformat": 4,
 "nbformat_minor": 2
}
